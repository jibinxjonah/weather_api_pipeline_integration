{
 "cells": [
  {
   "cell_type": "markdown",
   "id": "f8befe85",
   "metadata": {},
   "source": [
    "# Load The Json From the s3"
   ]
  },
  {
   "cell_type": "code",
   "execution_count": 18,
   "id": "ed948795",
   "metadata": {},
   "outputs": [],
   "source": [
    "import pandas as pd\n",
    "from datetime import datetime\n",
    "import boto3"
   ]
  },
  {
   "cell_type": "code",
   "execution_count": 2,
   "id": "1e6d63ee",
   "metadata": {},
   "outputs": [],
   "source": [
    "# pip install boto3"
   ]
  },
  {
   "cell_type": "code",
   "execution_count": 63,
   "id": "c155326a",
   "metadata": {},
   "outputs": [],
   "source": [
    "import boto3\n",
    "s3=boto3.client('s3')\n",
    "bucket_name='jibin.spotify.dump'\n",
    "folder_name='raw_json'\n",
    "file_name = f\"output_{datetime.now().strftime('%Y-%m-%d')}.json\"\n",
    "s3_file_key = f\"{folder_name}/{file_name}\""
   ]
  },
  {
   "cell_type": "code",
   "execution_count": 64,
   "id": "28f001ed",
   "metadata": {},
   "outputs": [
    {
     "data": {
      "text/plain": [
       "'output_2025-09-14.json'"
      ]
     },
     "execution_count": 64,
     "metadata": {},
     "output_type": "execute_result"
    }
   ],
   "source": [
    "json_filename=file_name"
   ]
  },
  {
   "cell_type": "code",
   "execution_count": 36,
   "id": "a1cf8811",
   "metadata": {},
   "outputs": [],
   "source": [
    "responce=s3.get_object(\n",
    "Bucket=bucket_name,\n",
    "Key=s3_file_key) "
   ]
  },
  {
   "cell_type": "code",
   "execution_count": 37,
   "id": "05def6d5",
   "metadata": {},
   "outputs": [],
   "source": [
    "raw_json_output_json=responce['Body'].read()"
   ]
  },
  {
   "cell_type": "code",
   "execution_count": 40,
   "id": "6745239b",
   "metadata": {},
   "outputs": [],
   "source": [
    "raw_json_output_json=json.loads(raw_json_output_json)"
   ]
  },
  {
   "cell_type": "code",
   "execution_count": 41,
   "id": "0e4e2f9e",
   "metadata": {},
   "outputs": [],
   "source": [
    "flattened_data=pd.json_normalize(raw_json_output_json, sep='_')"
   ]
  },
  {
   "cell_type": "code",
   "execution_count": 68,
   "id": "be62004d",
   "metadata": {},
   "outputs": [],
   "source": [
    "flattened_data.to_clipboard()"
   ]
  },
  {
   "cell_type": "markdown",
   "id": "cbfa0400",
   "metadata": {},
   "source": [
    "# Dump to S3 "
   ]
  },
  {
   "cell_type": "code",
   "execution_count": 49,
   "id": "c1263f02",
   "metadata": {},
   "outputs": [],
   "source": [
    "s3=boto3.client('s3')\n",
    "bucket_name='jibin.spotify.dump'\n",
    "folder_name='processed_data'\n",
    "file_name = f\"output_{datetime.now().strftime('%Y-%m-%d')}.csv\"\n",
    "s3_file_key = f\"{folder_name}/{file_name}\""
   ]
  },
  {
   "cell_type": "code",
   "execution_count": 51,
   "id": "93673534",
   "metadata": {},
   "outputs": [
    {
     "data": {
      "text/plain": [
       "'processed_data/output_2025-09-14.csv'"
      ]
     },
     "execution_count": 51,
     "metadata": {},
     "output_type": "execute_result"
    }
   ],
   "source": [
    "s3_file_key"
   ]
  },
  {
   "cell_type": "code",
   "execution_count": 52,
   "id": "aed79782",
   "metadata": {},
   "outputs": [
    {
     "data": {
      "text/plain": [
       "{'ResponseMetadata': {'RequestId': 'D2YKDQEWKK5B906W',\n",
       "  'HostId': 'MF0lSbRVUO5ywQyJO0Rd1nP229ODoMhNQ2Pgpgr1wpiJTPgLniNDJaqrNHxbXEdc2regh7qG41ZpurZ98N4Vdq43usptxc8m',\n",
       "  'HTTPStatusCode': 200,\n",
       "  'HTTPHeaders': {'x-amz-id-2': 'MF0lSbRVUO5ywQyJO0Rd1nP229ODoMhNQ2Pgpgr1wpiJTPgLniNDJaqrNHxbXEdc2regh7qG41ZpurZ98N4Vdq43usptxc8m',\n",
       "   'x-amz-request-id': 'D2YKDQEWKK5B906W',\n",
       "   'date': 'Sun, 14 Sep 2025 12:39:52 GMT',\n",
       "   'x-amz-server-side-encryption': 'AES256',\n",
       "   'etag': '\"32d58a5f5782699e0ab60827f8cefcea\"',\n",
       "   'x-amz-checksum-crc32': 'ZppvhA==',\n",
       "   'x-amz-checksum-type': 'FULL_OBJECT',\n",
       "   'content-length': '0',\n",
       "   'server': 'AmazonS3'},\n",
       "  'RetryAttempts': 0},\n",
       " 'ETag': '\"32d58a5f5782699e0ab60827f8cefcea\"',\n",
       " 'ChecksumCRC32': 'ZppvhA==',\n",
       " 'ChecksumType': 'FULL_OBJECT',\n",
       " 'ServerSideEncryption': 'AES256'}"
      ]
     },
     "execution_count": 52,
     "metadata": {},
     "output_type": "execute_result"
    }
   ],
   "source": [
    "s3.put_object(\n",
    "Bucket=bucket_name,\n",
    "Key=s3_file_key, \n",
    "Body=flattened_data,\n",
    "ContentType='csv')\n",
    "print('prossessed Data Dumped to s3')"
   ]
  },
  {
   "cell_type": "markdown",
   "id": "c4c4391c",
   "metadata": {},
   "source": [
    "# Delete The Raw Json"
   ]
  },
  {
   "cell_type": "code",
   "execution_count": 53,
   "id": "63bd4435",
   "metadata": {},
   "outputs": [],
   "source": [
    "s3=boto3.client('s3')\n",
    "bucket_name='jibin.spotify.dump'\n",
    "folder_name='raw_json'\n",
    "file_name = f\"output_{datetime.now().strftime('%Y-%m-%d')}.json\"\n",
    "s3_file_key = f\"{folder_name}/{file_name}\""
   ]
  },
  {
   "cell_type": "code",
   "execution_count": 66,
   "id": "b7c177c2",
   "metadata": {},
   "outputs": [
    {
     "data": {
      "text/plain": [
       "{'ResponseMetadata': {'RequestId': 'VR2BP8AMQAWPAHN3',\n",
       "  'HostId': 'XFMnv+vZ505bQ4irMqQUCChRnOwUXRCDR1iFk0jOY0bkn3IbD2Z4YQ+B9LRw2APizGvyTpszw+g=',\n",
       "  'HTTPStatusCode': 204,\n",
       "  'HTTPHeaders': {'x-amz-id-2': 'XFMnv+vZ505bQ4irMqQUCChRnOwUXRCDR1iFk0jOY0bkn3IbD2Z4YQ+B9LRw2APizGvyTpszw+g=',\n",
       "   'x-amz-request-id': 'VR2BP8AMQAWPAHN3',\n",
       "   'date': 'Sun, 14 Sep 2025 13:22:28 GMT',\n",
       "   'server': 'AmazonS3'},\n",
       "  'RetryAttempts': 0}}"
      ]
     },
     "execution_count": 66,
     "metadata": {},
     "output_type": "execute_result"
    }
   ],
   "source": [
    "bucket_name='jibin.spotify.dump'\n",
    "object_key=f'raw_json/{json_filename}'\n",
    "s3.delete_object(Bucket=bucket_name, Key=object_key)"
   ]
  }
 ],
 "metadata": {
  "kernelspec": {
   "display_name": "Python 3 (ipykernel)",
   "language": "python",
   "name": "python3"
  },
  "language_info": {
   "codemirror_mode": {
    "name": "ipython",
    "version": 3
   },
   "file_extension": ".py",
   "mimetype": "text/x-python",
   "name": "python",
   "nbconvert_exporter": "python",
   "pygments_lexer": "ipython3",
   "version": "3.11.5"
  }
 },
 "nbformat": 4,
 "nbformat_minor": 5
}
