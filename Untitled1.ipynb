{
 "cells": [
  {
   "cell_type": "code",
   "execution_count": 415,
   "id": "cb653cef",
   "metadata": {},
   "outputs": [],
   "source": [
    "def convertToBase13(num):\n",
    "    if num < 0:\n",
    "        neg='-'\n",
    "        num=abs(num)\n",
    "    output=[]\n",
    "    basevalue = {\"0\": \"0\", \"1\": \"1\",\"2\":\"2\",\"3\":\"3\",\"4\":\"4\",\"5\":\"5\",\"6\":\"6\",\"7\":\"7\",\"8\":\"8\",\"9\":\"9\",\"10\":\"A\",\"11\":\"B\",\"12\":\"C\"}\n",
    "    for i,j in basevalue.items():   \n",
    "        if num<=9:\n",
    "            print(num)\n",
    "            output.append(str(basevalue[str(num)]))\n",
    "            break\n",
    "        elif num == int(i):\n",
    "            print(j)\n",
    "            output.append(str(basevalue[str(num)]))\n",
    "            break\n",
    "        else:\n",
    "            if num >= 13:  \n",
    "                quo=num//13\n",
    "                rem=num%13\n",
    "                rem2=num%13\n",
    "                try: \n",
    "                    output.append(str(basevalue[str(quo)]))\n",
    "                    output.append(str(basevalue[str(rem)]))\n",
    "                except:\n",
    "                    pass\n",
    "\n",
    "                while quo > 13:\n",
    "                    \n",
    "                    quo1=quo\n",
    "                    rem=quo%13\n",
    "                    quo=quo//13\n",
    "                    output.append(str(basevalue[str(quo)]))\n",
    "                    output.append(str(basevalue[str(rem)]))\n",
    "                    if quo1>13: \n",
    "                         output.append(str(basevalue[str(rem2)]))\n",
    "                    break\n",
    "                else:\n",
    "                    pass\n",
    "                \n",
    "                break\n",
    "    out=''\n",
    "    try:  \n",
    "        if neg=='-':\n",
    "            out='-'\n",
    "    except:\n",
    "        pass\n",
    "    for i in output:\n",
    "        out+=i\n",
    "    return out"
   ]
  },
  {
   "cell_type": "code",
   "execution_count": 419,
   "id": "78cf4045",
   "metadata": {},
   "outputs": [
    {
     "data": {
      "text/plain": [
       "'3A'"
      ]
     },
     "execution_count": 419,
     "metadata": {},
     "output_type": "execute_result"
    }
   ],
   "source": [
    "convertToBase13(49)\n",
    "# 141%13"
   ]
  },
  {
   "cell_type": "code",
   "execution_count": 405,
   "id": "ae129f70",
   "metadata": {},
   "outputs": [
    {
     "ename": "NameError",
     "evalue": "name 'out' is not defined",
     "output_type": "error",
     "traceback": [
      "\u001b[1;31m---------------------------------------------------------------------------\u001b[0m",
      "\u001b[1;31mNameError\u001b[0m                                 Traceback (most recent call last)",
      "Cell \u001b[1;32mIn[405], line 1\u001b[0m\n\u001b[1;32m----> 1\u001b[0m out\n",
      "\u001b[1;31mNameError\u001b[0m: name 'out' is not defined"
     ]
    }
   ],
   "source": [
    "out"
   ]
  },
  {
   "cell_type": "code",
   "execution_count": 318,
   "id": "502ff4a4",
   "metadata": {},
   "outputs": [
    {
     "data": {
      "text/plain": [
       "37"
      ]
     },
     "execution_count": 318,
     "metadata": {},
     "output_type": "execute_result"
    }
   ],
   "source": [
    "484%13\n",
    "484//13"
   ]
  },
  {
   "cell_type": "code",
   "execution_count": 319,
   "id": "f61d5a6d",
   "metadata": {},
   "outputs": [
    {
     "data": {
      "text/plain": [
       "3"
      ]
     },
     "execution_count": 319,
     "metadata": {},
     "output_type": "execute_result"
    }
   ],
   "source": [
    "37//12"
   ]
  },
  {
   "cell_type": "code",
   "execution_count": 320,
   "id": "34307a7b",
   "metadata": {},
   "outputs": [
    {
     "data": {
      "text/plain": [
       "[]"
      ]
     },
     "execution_count": 320,
     "metadata": {},
     "output_type": "execute_result"
    }
   ],
   "source": [
    "output"
   ]
  },
  {
   "cell_type": "code",
   "execution_count": 121,
   "id": "781add7f",
   "metadata": {},
   "outputs": [
    {
     "name": "stdout",
     "output_type": "stream",
     "text": [
      "0\n",
      "1\n",
      "2\n",
      "3\n",
      "4\n",
      "5\n",
      "6\n",
      "7\n",
      "8\n",
      "9\n",
      "A\n",
      "B\n",
      "C\n"
     ]
    }
   ],
   "source": [
    "basevalue = {\"0\": \"0\", \"1\": \"1\",\"2\":\"2\",\"3\":\"3\",\"4\":\"4\",\"5\":\"5\",\"6\":\"6\",\"7\":\"7\",\"8\":\"8\",\"9\":\"9\",\"10\":\"A\",\"11\":\"B\",\"12\":\"C\"}\n",
    "for i,j in basevalue.items():\n",
    "    print(j)"
   ]
  },
  {
   "cell_type": "markdown",
   "id": "b9f6d659",
   "metadata": {},
   "source": [
    "##### "
   ]
  },
  {
   "cell_type": "code",
   "execution_count": 43,
   "id": "5051e450",
   "metadata": {},
   "outputs": [
    {
     "name": "stdout",
     "output_type": "stream",
     "text": [
      "0\n",
      "1\n",
      "2\n",
      "3\n",
      "4\n",
      "5\n",
      "6\n",
      "7\n",
      "8\n",
      "9\n",
      "10\n",
      "11\n",
      "12\n"
     ]
    }
   ],
   "source": [
    "basevalue = {\"0\": \"0\", \"1\": \"1\",\"2\":\"2\",\"3\":\"3\",\"4\":\"4\",\"5\":\"5\",\"6\":\"6\",\"7\":\"7\",\"8\":\"8\",\"9\":\"9\",\"10\":\"A\",\"11\":\"B\",\"12\":\"C\"}\n",
    "for i,j in basevalue.items():\n",
    "    print(i)\n",
    "#     if num<=9:\n",
    "#         print(num)\n",
    "#     elif num == int(i):\n",
    "#         print(i)"
   ]
  },
  {
   "cell_type": "code",
   "execution_count": 507,
   "id": "8c28f840",
   "metadata": {},
   "outputs": [],
   "source": [
    "import random\n",
    "v=[1,2,3,4,5,6,6]\n",
    "t=9\n",
    "\n",
    "# for i in \n"
   ]
  },
  {
   "cell_type": "code",
   "execution_count": 483,
   "id": "43f72782",
   "metadata": {},
   "outputs": [
    {
     "ename": "TypeError",
     "evalue": "'NoneType' object is not iterable",
     "output_type": "error",
     "traceback": [
      "\u001b[1;31m---------------------------------------------------------------------------\u001b[0m",
      "\u001b[1;31mTypeError\u001b[0m                                 Traceback (most recent call last)",
      "Cell \u001b[1;32mIn[483], line 2\u001b[0m\n\u001b[0;32m      1\u001b[0m \u001b[38;5;28;01mfor\u001b[39;00m i \u001b[38;5;129;01min\u001b[39;00m v:\n\u001b[1;32m----> 2\u001b[0m     \u001b[38;5;28;01mfor\u001b[39;00m j \u001b[38;5;129;01min\u001b[39;00m v\u001b[38;5;241m.\u001b[39mremove(i):\n\u001b[0;32m      3\u001b[0m         \u001b[38;5;28mprint\u001b[39m(i)\n",
      "\u001b[1;31mTypeError\u001b[0m: 'NoneType' object is not iterable"
     ]
    }
   ],
   "source": [
    "a=[]\n",
    "b=[]\n",
    "\n",
    "for i in v:\n",
    "    "
   ]
  },
  {
   "cell_type": "code",
   "execution_count": 485,
   "id": "9f8ac9b4",
   "metadata": {},
   "outputs": [],
   "source": [
    "v.remove(3)"
   ]
  },
  {
   "cell_type": "code",
   "execution_count": 486,
   "id": "f01f4565",
   "metadata": {},
   "outputs": [
    {
     "data": {
      "text/plain": [
       "[4, 5, 6, 6]"
      ]
     },
     "execution_count": 486,
     "metadata": {},
     "output_type": "execute_result"
    }
   ],
   "source": [
    "v"
   ]
  },
  {
   "cell_type": "code",
   "execution_count": 525,
   "id": "29ecd409",
   "metadata": {},
   "outputs": [
    {
     "name": "stdout",
     "output_type": "stream",
     "text": [
      "2 3\n",
      "4 5\n",
      "6 6\n"
     ]
    },
    {
     "ename": "IndexError",
     "evalue": "list index out of range",
     "output_type": "error",
     "traceback": [
      "\u001b[1;31m---------------------------------------------------------------------------\u001b[0m",
      "\u001b[1;31mIndexError\u001b[0m                                Traceback (most recent call last)",
      "Cell \u001b[1;32mIn[525], line 7\u001b[0m\n\u001b[0;32m      4\u001b[0m b\u001b[38;5;241m=\u001b[39mv[j]\n\u001b[0;32m      6\u001b[0m \u001b[38;5;28;01mwhile\u001b[39;00m a\u001b[38;5;241m+\u001b[39mb\u001b[38;5;241m!=\u001b[39mt:\n\u001b[1;32m----> 7\u001b[0m     k\u001b[38;5;241m=\u001b[39mv[k\u001b[38;5;241m+\u001b[39m\u001b[38;5;241m1\u001b[39m]\n\u001b[0;32m      8\u001b[0m     j\u001b[38;5;241m=\u001b[39mv[j\u001b[38;5;241m+\u001b[39m\u001b[38;5;241m1\u001b[39m]\n\u001b[0;32m      9\u001b[0m     \u001b[38;5;28;01mif\u001b[39;00m k \u001b[38;5;241m>\u001b[39m \u001b[38;5;28mmax\u001b[39m(v):\n",
      "\u001b[1;31mIndexError\u001b[0m: list index out of range"
     ]
    }
   ],
   "source": [
    "k=[0]\n",
    "j=[1]\n",
    "a=v[k]\n",
    "b=v[j]\n",
    "if a+b==t:\n",
    "        print(a,b)\n",
    "        break\n"
   ]
  },
  {
   "cell_type": "code",
   "execution_count": 540,
   "id": "4d4afc78",
   "metadata": {},
   "outputs": [],
   "source": [
    "a='asf a s'"
   ]
  },
  {
   "cell_type": "code",
   "execution_count": 543,
   "id": "108715ac",
   "metadata": {},
   "outputs": [
    {
     "data": {
      "text/plain": [
       "'asfas'"
      ]
     },
     "execution_count": 543,
     "metadata": {},
     "output_type": "execute_result"
    }
   ],
   "source": [
    "a.replace(' ','')"
   ]
  },
  {
   "cell_type": "code",
   "execution_count": 548,
   "id": "661a3dca",
   "metadata": {},
   "outputs": [],
   "source": [
    "strength = [[1, 2, 3],[4, 5, 6],[7, 8, 9]]"
   ]
  },
  {
   "cell_type": "code",
   "execution_count": 553,
   "id": "56387243",
   "metadata": {},
   "outputs": [
    {
     "name": "stdout",
     "output_type": "stream",
     "text": [
      "1\n",
      "2\n",
      "3\n",
      "4\n",
      "5\n",
      "6\n",
      "7\n",
      "8\n",
      "9\n"
     ]
    }
   ],
   "source": [
    "for i in strength:\n",
    "    for j in i:\n",
    "        print(j)"
   ]
  },
  {
   "cell_type": "code",
   "execution_count": 555,
   "id": "85b9b3bd",
   "metadata": {},
   "outputs": [
    {
     "name": "stdout",
     "output_type": "stream",
     "text": [
      "[1, 2, 3]\n",
      "[4, 5, 6]\n",
      "[7, 8, 9]\n"
     ]
    }
   ],
   "source": [
    "for i in strength:\n",
    "    "
   ]
  },
  {
   "cell_type": "code",
   "execution_count": 558,
   "id": "54c287bb",
   "metadata": {},
   "outputs": [
    {
     "data": {
      "text/plain": [
       "3"
      ]
     },
     "execution_count": 558,
     "metadata": {},
     "output_type": "execute_result"
    }
   ],
   "source": [
    "def is_anagram(s, t):\n",
    "    \n",
    "  \n",
    "   return False"
   ]
  },
  {
   "cell_type": "code",
   "execution_count": 560,
   "id": "5651fbb5",
   "metadata": {},
   "outputs": [],
   "source": [
    "a='avx'\n",
    "b='vax'"
   ]
  },
  {
   "cell_type": "code",
   "execution_count": null,
   "id": "799bee6e",
   "metadata": {},
   "outputs": [],
   "source": [
    "if i in a:\n",
    "    \n",
    "    "
   ]
  }
 ],
 "metadata": {
  "kernelspec": {
   "display_name": "Python 3 (ipykernel)",
   "language": "python",
   "name": "python3"
  },
  "language_info": {
   "codemirror_mode": {
    "name": "ipython",
    "version": 3
   },
   "file_extension": ".py",
   "mimetype": "text/x-python",
   "name": "python",
   "nbconvert_exporter": "python",
   "pygments_lexer": "ipython3",
   "version": "3.11.5"
  }
 },
 "nbformat": 4,
 "nbformat_minor": 5
}
